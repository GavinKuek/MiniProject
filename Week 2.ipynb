{
 "cells": [
  {
   "cell_type": "markdown",
   "id": "4f066b81",
   "metadata": {},
   "source": [
    "# Week 2 Tutorial"
   ]
  },
  {
   "cell_type": "markdown",
   "id": "eb749e85",
   "metadata": {},
   "source": [
    "### Exercise 1"
   ]
  },
  {
   "cell_type": "code",
   "execution_count": 1,
   "id": "ab497b9b",
   "metadata": {},
   "outputs": [],
   "source": [
    "import numpy as np\n",
    "import matplotlib.pyplot as plt"
   ]
  },
  {
   "cell_type": "code",
   "execution_count": 2,
   "id": "34bde852",
   "metadata": {},
   "outputs": [],
   "source": [
    "def even_or_odd(x):\n",
    "    if (x%2 == 0):\n",
    "        print(\"x is an even number!\")\n",
    "    \n",
    "    elif (x%2 == 1):\n",
    "        print(\"x is an odd number!\")\n",
    "        \n",
    "    else:\n",
    "        print(\"x is nor an even or odd number!\")"
   ]
  },
  {
   "cell_type": "code",
   "execution_count": 3,
   "id": "2496e5ba",
   "metadata": {},
   "outputs": [
    {
     "name": "stdout",
     "output_type": "stream",
     "text": [
      "x is an odd number!\n"
     ]
    }
   ],
   "source": [
    "even_or_odd(1)"
   ]
  },
  {
   "cell_type": "code",
   "execution_count": 4,
   "id": "a37425a8",
   "metadata": {},
   "outputs": [
    {
     "name": "stdout",
     "output_type": "stream",
     "text": [
      "x is an even number!\n"
     ]
    }
   ],
   "source": [
    "even_or_odd(0)"
   ]
  },
  {
   "cell_type": "code",
   "execution_count": 5,
   "id": "a234009a",
   "metadata": {},
   "outputs": [
    {
     "name": "stdout",
     "output_type": "stream",
     "text": [
      "x is nor an even or odd number!\n"
     ]
    }
   ],
   "source": [
    "even_or_odd(3.423)"
   ]
  },
  {
   "cell_type": "markdown",
   "id": "48b31c24",
   "metadata": {},
   "source": [
    "### Exercise 2"
   ]
  },
  {
   "cell_type": "code",
   "execution_count": 12,
   "id": "32a14166",
   "metadata": {},
   "outputs": [
    {
     "name": "stdout",
     "output_type": "stream",
     "text": [
      "99999.0\n",
      "99999\n"
     ]
    }
   ],
   "source": [
    "large_n = 1e5\n",
    "\n",
    "numpy_arr = np.arange(large_n)\n",
    "list_arr = list(range(int(large_n)))\n",
    "\n",
    "print(numpy_arr[-1])\n",
    "print(list_arr[-1])"
   ]
  },
  {
   "cell_type": "code",
   "execution_count": 14,
   "id": "62696852",
   "metadata": {},
   "outputs": [
    {
     "name": "stdout",
     "output_type": "stream",
     "text": [
      "137 µs ± 2.7 µs per loop (mean ± std. dev. of 7 runs, 10,000 loops each)\n"
     ]
    }
   ],
   "source": [
    "%timeit res = numpy_arr * 2"
   ]
  },
  {
   "cell_type": "code",
   "execution_count": 15,
   "id": "c5ff2c1c",
   "metadata": {},
   "outputs": [
    {
     "name": "stdout",
     "output_type": "stream",
     "text": [
      "15.1 ms ± 737 µs per loop (mean ± std. dev. of 7 runs, 100 loops each)\n"
     ]
    }
   ],
   "source": [
    "%timeit res = [2*i for i in list_arr]"
   ]
  },
  {
   "cell_type": "markdown",
   "id": "7811eebc",
   "metadata": {},
   "source": [
    "### Exercise 3"
   ]
  },
  {
   "cell_type": "code",
   "execution_count": 18,
   "id": "b13ca81a",
   "metadata": {},
   "outputs": [
    {
     "name": "stdout",
     "output_type": "stream",
     "text": [
      "[0 1 2 3 4 5 6 7 8 9]\n",
      "[ 0  1  2  3 25 25 25  7  8  9]\n",
      "[-1 25 25]\n",
      "[ 0  1  2  3 25 25 25  7  8  9]\n"
     ]
    }
   ],
   "source": [
    "import numpy as np\n",
    "\n",
    "my_arr=np.arange(10)\n",
    "print(my_arr)\n",
    "my_arr[4:7]= 25\n",
    "print(my_arr)\n",
    "\n",
    "arr_slice=my_arr[4:7].copy()\n",
    "arr_slice[0]=-1\n",
    "\n",
    "print(arr_slice)\n",
    "print(my_arr)"
   ]
  },
  {
   "cell_type": "markdown",
   "id": "10214177",
   "metadata": {},
   "source": [
    "### Exercise 4"
   ]
  },
  {
   "cell_type": "code",
   "execution_count": 23,
   "id": "fd69516e",
   "metadata": {},
   "outputs": [
    {
     "data": {
      "image/png": "[encoded data removed]",
      "text/plain": [
       "<Figure size 432x288 with 1 Axes>"
      ]
     },
     "metadata": {
      "needs_background": "light"
     },
     "output_type": "display_data"
    }
   ],
   "source": [
    "import numpy as np\n",
    "import matplotlib.pyplot as plt\n",
    "\n",
    "# Define image dimensions\n",
    "image_size = 200\n",
    "center = image_size // 2  # Middle of the image\n",
    "\n",
    "# Create a grid of coordinates\n",
    "x, y = np.meshgrid(np.arange(image_size), np.arange(image_size))\n",
    "\n",
    "# Create an empty image with black background\n",
    "image = np.zeros((image_size, image_size))\n",
    "\n",
    "# Create a circular mask\n",
    "radius = image_size // 4\n",
    "mask = (x - center) ** 2 + (y - center) ** 2 <= radius ** 2\n",
    "\n",
    "# Set the circular spot to white in the image\n",
    "image[mask] = 1\n",
    "\n",
    "# Display the image\n",
    "plt.imshow(image, cmap='gray')\n",
    "plt.axis('off')\n",
    "plt.show()"
   ]
  }
 ],
 "metadata": {
  "kernelspec": {
   "display_name": "Python 3 (ipykernel)",
   "language": "python",
   "name": "python3"
  },
  "language_info": {
   "codemirror_mode": {
    "name": "ipython",
    "version": 3
   },
   "file_extension": ".py",
   "mimetype": "text/x-python",
   "name": "python",
   "nbconvert_exporter": "python",
   "pygments_lexer": "ipython3",
   "version": "3.9.12"
  }
 },
 "nbformat": 4,
 "nbformat_minor": 5
}
